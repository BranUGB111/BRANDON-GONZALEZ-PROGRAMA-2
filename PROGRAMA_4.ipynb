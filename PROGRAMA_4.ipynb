{
  "nbformat": 4,
  "nbformat_minor": 0,
  "metadata": {
    "colab": {
      "provenance": []
    },
    "kernelspec": {
      "name": "python3",
      "display_name": "Python 3"
    },
    "language_info": {
      "name": "python"
    }
  },
  "cells": [
    {
      "cell_type": "code",
      "execution_count": 6,
      "metadata": {
        "id": "xzUfyNhPxzvV",
        "colab": {
          "base_uri": "https://localhost:8080/"
        },
        "outputId": "1e86391e-eec3-4edf-a6fe-78bd68524ed8"
      },
      "outputs": [
        {
          "output_type": "stream",
          "name": "stdout",
          "text": [
            "dame el nombre del alumno 1: Cristian\n",
            "dame la calificación de Cristian: 8\n",
            "dame el nombre del alumno 2: Ignacio\n",
            "dame la calificación de Ignacio: 6\n",
            "dame el nombre del alumno 3: Carlos\n",
            "dame la calificación de Carlos: 8.6\n",
            "dame el nombre del alumno 4: Hugo\n",
            "dame la calificación de Hugo: 9.7\n",
            "dame el nombre del alumno 5: Oliver\n",
            "dame la calificación de Oliver: 7.5\n",
            "dame el nombre del alumno 6: Emiliano\n",
            "dame la calificación de Emiliano: 9.1\n",
            "dame el nombre del alumno 7: Cesar\n",
            "dame la calificación de Cesar: 9.8\n",
            "dame el nombre del alumno 8: Alberto\n",
            "dame la calificación de Alberto: 10\n",
            "dame el nombre del alumno 9: Jesus\n",
            "dame la calificación de Jesus: 9.9\n",
            "dame el nombre del alumno 10: Brandon\n",
            "dame la calificación de Brandon: 8.9\n",
            "\n",
            "Resultados\n",
            "Promedio grupal: 8.75\n",
            "Alumnos con calificación mayor a 9.5:\n",
            " - Hugo\n",
            " - Cesar\n",
            " - Alberto\n",
            " - Jesus\n"
          ]
        }
      ],
      "source": [
        "class Calificaciones:\n",
        "\n",
        "    def leer_datos(self):\n",
        "        self.datos = []\n",
        "        for i in range(10):\n",
        "            nombre = input(f\"dame el nombre del alumno {i+1}: \")\n",
        "            while True:\n",
        "                calificacion = float(input(f\"dame la calificación de {nombre}: \"))\n",
        "                if 0 <= calificacion <= 10:\n",
        "                 break\n",
        "            self.datos.append((nombre, calificacion))\n",
        "\n",
        "    def procesar(self):\n",
        "        total = sum(cal for _, cal in self.datos)\n",
        "        self.promedio = total / len(self.datos)\n",
        "\n",
        "        self.alumnos_excelentes = [nombre for nombre, cal in self.datos if cal > 9.5]\n",
        "\n",
        "    def imprimir_resultados(self):\n",
        "        print(\"\\nResultados\")\n",
        "        print(f\"Promedio grupal: {self.promedio:.2f}\")\n",
        "        if self.alumnos_excelentes:\n",
        "            print(\"Alumnos con calificación mayor a 9.5:\")\n",
        "            for nombre in self.alumnos_excelentes:\n",
        "                print(f\" - {nombre}\")\n",
        "        else:\n",
        "            print(\"Ningún alumno obtuvo calificación mayor a 9.5.\")\n",
        "\n",
        "\n",
        "if __name__ == \"__main__\":\n",
        "    grupo = Calificaciones()\n",
        "    grupo.leer_datos()\n",
        "    grupo.procesar()\n",
        "    grupo.imprimir_resultados()"
      ]
    }
  ]
}
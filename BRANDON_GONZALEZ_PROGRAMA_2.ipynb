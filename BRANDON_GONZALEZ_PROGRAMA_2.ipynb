{
  "nbformat": 4,
  "nbformat_minor": 0,
  "metadata": {
    "colab": {
      "provenance": []
    },
    "kernelspec": {
      "name": "python3",
      "display_name": "Python 3"
    },
    "language_info": {
      "name": "python"
    }
  },
  "cells": [
    {
      "cell_type": "code",
      "execution_count": 2,
      "metadata": {
        "id": "M12ZebXJEmxy"
      },
      "outputs": [],
      "source": [
        "class Alumno:\n",
        "    def verificar_estado(self):\n",
        "        if self.promedio >= 6:\n",
        "            print(f\"El alumno {self.nombre} se ha inscrito correctamente.\")\n",
        "        else:\n",
        "            print(f\"El alumno {self.nombre} se ha ido a asesorías académicas.\")"
      ]
    },
    {
      "cell_type": "code",
      "source": [
        "alumno1 = Alumno()\n",
        "\n",
        "alumno1.nombre = input(\"Ingrese el nombre del alumno: \")\n",
        "alumno1.edad = int(input(\"Ingrese la edad del alumno: \"))\n",
        "alumno1.peso = float(input(\"Ingrese el peso del alumno (kg): \"))\n",
        "alumno1.promedio = float(input(\"Ingrese el promedio del alumno: \"))\n",
        "\n",
        "alumno1.verificar_estado()"
      ],
      "metadata": {
        "colab": {
          "base_uri": "https://localhost:8080/"
        },
        "id": "8oDvEe51FgZK",
        "outputId": "a7f000f9-150f-47bf-a454-e64a57315237"
      },
      "execution_count": 3,
      "outputs": [
        {
          "output_type": "stream",
          "name": "stdout",
          "text": [
            "Ingrese el nombre del alumno: Eduardo\n",
            "Ingrese la edad del alumno: 17\n",
            "Ingrese el peso del alumno (kg): 78\n",
            "Ingrese el promedio del alumno: 8.4\n",
            "El alumno Eduardo se ha inscrito correctamente.\n"
          ]
        }
      ]
    },
    {
      "cell_type": "code",
      "source": [
        "print(\"\\nDatos del Alumno\")\n",
        "print(f\"Nombre: {alumno1.nombre}\")\n",
        "print(f\"Edad: {alumno1.edad}\")\n",
        "print(f\"Peso: {alumno1.peso} kg\")\n",
        "print(f\"Promedio: {alumno1.promedio}\")"
      ],
      "metadata": {
        "colab": {
          "base_uri": "https://localhost:8080/"
        },
        "id": "79NsrCWfFl4p",
        "outputId": "db9821a3-ea19-4c73-a015-b05ec7f5e342"
      },
      "execution_count": 4,
      "outputs": [
        {
          "output_type": "stream",
          "name": "stdout",
          "text": [
            "\n",
            "Datos del Alumno\n",
            "Nombre: Eduardo\n",
            "Edad: 17\n",
            "Peso: 78.0 kg\n",
            "Promedio: 8.4\n"
          ]
        }
      ]
    }
  ]
}